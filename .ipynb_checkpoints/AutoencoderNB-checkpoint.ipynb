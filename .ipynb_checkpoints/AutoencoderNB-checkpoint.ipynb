{
 "cells": [
  {
   "cell_type": "code",
   "execution_count": 5,
   "id": "79cde95d-f271-4f50-b777-e91c1fae49b5",
   "metadata": {},
   "outputs": [],
   "source": [
    "#imports\n",
    "\n",
    "import torch\n",
    "import torchvision\n",
    "import torch.nn as nn\n",
    "import torch.nn.functional as F\n",
    "import torch.optim as optim\n",
    "import torch.utils.data as data\n",
    "\n",
    "import torchvision.transforms as transforms\n",
    "import torchvision.datasets as datasets\n",
    "\n",
    "import matplotlib.pyplot as plt\n",
    "import numpy as np\n",
    "import os"
   ]
  },
  {
   "cell_type": "code",
   "execution_count": 6,
   "id": "61bc0a7e-537f-4a65-81b8-52ab1e8894f1",
   "metadata": {},
   "outputs": [
    {
     "data": {
      "text/plain": [
       "819"
      ]
     },
     "execution_count": 6,
     "metadata": {},
     "output_type": "execute_result"
    }
   ],
   "source": [
    "num_pokemon = len(os.listdir(\"data/pokemon_jpg/pokemon_jpg/\"))\n",
    "num_pokemon"
   ]
  },
  {
   "cell_type": "code",
   "execution_count": 7,
   "id": "361947a1-3ef5-4093-9ab8-3f1915be4146",
   "metadata": {},
   "outputs": [],
   "source": [
    "ims = []\n",
    "\n",
    "for im_name in os.listdir(\"data/pokemon_jpg/pokemon_jpg/\"):\n",
    "    s = (f\"data/pokemon_jpg/pokemon_jpg/{str(im_name)}\")\n",
    "    curr = torchvision.io.read_image(s)\n",
    "    ims.append(curr)\n",
    "    \n",
    "ims = torch.stack(ims)"
   ]
  },
  {
   "cell_type": "code",
   "execution_count": 8,
   "id": "0f42592f-c4a8-4c4e-914e-b52b5be66c92",
   "metadata": {},
   "outputs": [
    {
     "data": {
      "text/plain": [
       "torch.Size([819, 3, 256, 256])"
      ]
     },
     "execution_count": 8,
     "metadata": {},
     "output_type": "execute_result"
    }
   ],
   "source": [
    "ims.shape"
   ]
  },
  {
   "cell_type": "code",
   "execution_count": null,
   "id": "73dc862b-b7a1-4312-9e38-9e540dbfab90",
   "metadata": {},
   "outputs": [],
   "source": []
  }
 ],
 "metadata": {
  "kernelspec": {
   "display_name": "Python 3 (ipykernel)",
   "language": "python",
   "name": "python3"
  },
  "language_info": {
   "codemirror_mode": {
    "name": "ipython",
    "version": 3
   },
   "file_extension": ".py",
   "mimetype": "text/x-python",
   "name": "python",
   "nbconvert_exporter": "python",
   "pygments_lexer": "ipython3",
   "version": "3.10.5"
  }
 },
 "nbformat": 4,
 "nbformat_minor": 5
}
